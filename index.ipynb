{
  "cells": [
    {
      "cell_type": "raw",
      "metadata": {},
      "source": [
        "---\n",
        "title: \"Fidèle Balume, PhD\"\n",
        "image: profile.png\n",
        "toc: false\n",
        "about: \n",
        "  template: trestles\n",
        "  image-shape: round\n",
        "  image-width: 29em\n",
        "  links:\n",
        "    - text: LinkedIn\n",
        "      href: https://www.linkedin.com/in/fidèle-balume-b1a20a153\n",
        "    - text: Twitter\n",
        "      href: https://twitter.com/L_Fidel_Balume\n",
        "    - text: GitHub\n",
        "      href: https://github.com/f-balume\n",
        "    - text: Email\n",
        "      href: mailto:fidele.shukuru-balume1@univ-lyon3.fr\n",
        "editor_options: \n",
        "  chunk_output_type: console\n",
        "---"
      ],
      "id": "c5032e89"
    },
    {
      "cell_type": "markdown",
      "metadata": {},
      "source": [
        "### Bio\n",
        "\n",
        "```{css}\n",
        "I hold a PhD in corporate finance from the University of Lyon, preceded by two master's degrees: in financial engineering and transactions, and in international and monetary economics. This background has allowed me to develop solid expertise in financial structuring and economic analysis, which enable me to teach at university level.\n",
        "{\n",
        "  text-align: justify;\n",
        "}\n",
        "\n",
        "\n",
        "------------------------------------------------------------------------\n",
        "\n",
        "### Education\n",
        "\n",
        "PhD studies in Corporate Finance \\| University of Lyon, Lyon, France \\| 2020-2024\n",
        "\n",
        "Master in Financial Engineering and Transaction \\| iaelyon school of management, Jean-Moulin Lyon 3 University, Lyon, France \\| 2017 - 2019\n",
        "\n",
        "Visiting scholar at University of North Carolina at Charlotte, USA \\| March - June 2023\n",
        "\n",
        "Summer school at Aarhus University, Denmark \\| Jul. - Aug. 2022 & at Paris School of Economics (PSE), France \\| Jun. 2021\n",
        "\n",
        "------------------------------------------------------------------------\n",
        "\n",
        "### Current position\n",
        "\n",
        "Researcher and Teaching Associate \\| iaelyon School of Management \\| Sept. 2023 -\n",
        "\n",
        "------------------------------------------------------------------------"
      ],
      "id": "f8af3544"
    }
  ],
  "metadata": {
    "kernelspec": {
      "display_name": "Python 3",
      "language": "python",
      "name": "python3"
    }
  },
  "nbformat": 4,
  "nbformat_minor": 5
}